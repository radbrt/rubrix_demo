{
 "cells": [
  {
   "cell_type": "code",
   "execution_count": 1,
   "metadata": {},
   "outputs": [
    {
     "name": "stderr",
     "output_type": "stream",
     "text": [
      "/home/radbrt/anaconda3/envs/rubrix/lib/python3.10/site-packages/jose/backends/cryptography_backend.py:18: CryptographyDeprecationWarning: int_from_bytes is deprecated, use int.from_bytes instead\n",
      "  from cryptography.utils import int_from_bytes, int_to_bytes\n"
     ]
    }
   ],
   "source": [
    "import rubrix as rb\n",
    "import pandas as pd\n",
    "\n",
    "df = pd.read_parquet('/media/datastore/nav_open/nav_all_fast.parquet')\n",
    "\n"
   ]
  },
  {
   "cell_type": "code",
   "execution_count": 2,
   "metadata": {},
   "outputs": [],
   "source": [
    "from janitor import clean_names\n",
    "df = clean_names(df)"
   ]
  },
  {
   "cell_type": "code",
   "execution_count": 3,
   "metadata": {},
   "outputs": [
    {
     "data": {
      "text/plain": [
       "Index(['stillingsnummer', 'stillingsnummer_nav_no', 'stilling_id',\n",
       "       'nav_enhet_kode', 'registrert_dato', 'sistepubl_dato',\n",
       "       'statistikk_aar_mnd', 'offisiell_statistikk_flagg', 'stilling_kilde',\n",
       "       'arbeidssted_fylkesnummer', 'arbeidssted_fylke',\n",
       "       'arbeidssted_kommunenummer', 'arbeidssted_kommune',\n",
       "       'arbeidssted_landkode', 'arbeidssted_land', 'isco_versjon',\n",
       "       'yrke_grovgruppe', 'yrkeskode', 'yrke', 'yrkesbetegnelse',\n",
       "       'bedrift_org_nr', 'bedrift_navn', 'aktiv_flagg',\n",
       "       'bedrift_naring_primar_kode', 'foretak_org_nr', 'foretak_navn',\n",
       "       'foretak_sektor_gruppe', 'tilleggskriterium', 'antall_stillinger',\n",
       "       'stillingstittel'],\n",
       "      dtype='object')"
      ]
     },
     "execution_count": 3,
     "metadata": {},
     "output_type": "execute_result"
    }
   ],
   "source": [
    "df.columns"
   ]
  },
  {
   "cell_type": "code",
   "execution_count": 5,
   "metadata": {},
   "outputs": [],
   "source": [
    "for i, r in df.head(500).iterrows():\n",
    "    record = rb.TextClassificationRecord(\n",
    "        inputs={\n",
    "            \"tittel\": r.stillingstittel,\n",
    "            \"gruppe\": r.yrke_grovgruppe\n",
    "        },\n",
    "        metadata={'bedrift_navn': r.bedrift_navn\n",
    "\n",
    "        }\n",
    "    )\n",
    "\n",
    "    rb.log(record, name = \"yrkesgruppe_2\", verbose=False)\n"
   ]
  },
  {
   "cell_type": "code",
   "execution_count": 9,
   "metadata": {},
   "outputs": [],
   "source": [
    "data = [rb.TextClassificationRecord(inputs={\"tittel\": r.stillingstittel, \"gruppe\": r.yrke_grovgruppe}) for i, r in df[['stillingstittel', 'yrke_grovgruppe']].iterrows() if r.stillingstittel is not None and r.yrke_grovgruppe is not None]"
   ]
  },
  {
   "cell_type": "code",
   "execution_count": 10,
   "metadata": {},
   "outputs": [
    {
     "ename": "KeyboardInterrupt",
     "evalue": "",
     "output_type": "error",
     "traceback": [
      "\u001b[0;31m---------------------------------------------------------------------------\u001b[0m",
      "\u001b[0;31mKeyboardInterrupt\u001b[0m                         Traceback (most recent call last)",
      "\u001b[1;32m/home/radbrt/projects/rubrix/nb.ipynb Cell 6'\u001b[0m in \u001b[0;36m<module>\u001b[0;34m\u001b[0m\n\u001b[0;32m----> <a href='vscode-notebook-cell:/home/radbrt/projects/rubrix/nb.ipynb#ch0000005?line=0'>1</a>\u001b[0m rb\u001b[39m.\u001b[39;49mlog(data, name\u001b[39m=\u001b[39;49m\u001b[39m\"\u001b[39;49m\u001b[39mfull_data\u001b[39;49m\u001b[39m\"\u001b[39;49m, verbose\u001b[39m=\u001b[39;49m\u001b[39mFalse\u001b[39;49;00m)\n",
      "File \u001b[0;32m~/anaconda3/envs/rubrix/lib/python3.10/site-packages/rubrix/__init__.py:175\u001b[0m, in \u001b[0;36mlog\u001b[0;34m(records, name, tags, metadata, chunk_size, verbose)\u001b[0m\n\u001b[1;32m    <a href='file:///~/anaconda3/envs/rubrix/lib/python3.10/site-packages/rubrix/__init__.py?line=152'>153</a>\u001b[0m \u001b[39m\"\"\"Log Records to Rubrix.\u001b[39;00m\n\u001b[1;32m    <a href='file:///~/anaconda3/envs/rubrix/lib/python3.10/site-packages/rubrix/__init__.py?line=153'>154</a>\u001b[0m \n\u001b[1;32m    <a href='file:///~/anaconda3/envs/rubrix/lib/python3.10/site-packages/rubrix/__init__.py?line=154'>155</a>\u001b[0m \u001b[39mArgs:\u001b[39;00m\n\u001b[0;32m   (...)\u001b[0m\n\u001b[1;32m    <a href='file:///~/anaconda3/envs/rubrix/lib/python3.10/site-packages/rubrix/__init__.py?line=171'>172</a>\u001b[0m \u001b[39m    >>> response = rb.log(record, name=\"example-dataset\")\u001b[39;00m\n\u001b[1;32m    <a href='file:///~/anaconda3/envs/rubrix/lib/python3.10/site-packages/rubrix/__init__.py?line=172'>173</a>\u001b[0m \u001b[39m\"\"\"\u001b[39;00m\n\u001b[1;32m    <a href='file:///~/anaconda3/envs/rubrix/lib/python3.10/site-packages/rubrix/__init__.py?line=173'>174</a>\u001b[0m \u001b[39m# noinspection PyTypeChecker,PydanticTypeChecker\u001b[39;00m\n\u001b[0;32m--> <a href='file:///~/anaconda3/envs/rubrix/lib/python3.10/site-packages/rubrix/__init__.py?line=174'>175</a>\u001b[0m \u001b[39mreturn\u001b[39;00m _client_instance()\u001b[39m.\u001b[39;49mlog(\n\u001b[1;32m    <a href='file:///~/anaconda3/envs/rubrix/lib/python3.10/site-packages/rubrix/__init__.py?line=175'>176</a>\u001b[0m     records\u001b[39m=\u001b[39;49mrecords,\n\u001b[1;32m    <a href='file:///~/anaconda3/envs/rubrix/lib/python3.10/site-packages/rubrix/__init__.py?line=176'>177</a>\u001b[0m     name\u001b[39m=\u001b[39;49mname,\n\u001b[1;32m    <a href='file:///~/anaconda3/envs/rubrix/lib/python3.10/site-packages/rubrix/__init__.py?line=177'>178</a>\u001b[0m     tags\u001b[39m=\u001b[39;49mtags,\n\u001b[1;32m    <a href='file:///~/anaconda3/envs/rubrix/lib/python3.10/site-packages/rubrix/__init__.py?line=178'>179</a>\u001b[0m     metadata\u001b[39m=\u001b[39;49mmetadata,\n\u001b[1;32m    <a href='file:///~/anaconda3/envs/rubrix/lib/python3.10/site-packages/rubrix/__init__.py?line=179'>180</a>\u001b[0m     chunk_size\u001b[39m=\u001b[39;49mchunk_size,\n\u001b[1;32m    <a href='file:///~/anaconda3/envs/rubrix/lib/python3.10/site-packages/rubrix/__init__.py?line=180'>181</a>\u001b[0m     verbose\u001b[39m=\u001b[39;49mverbose,\n\u001b[1;32m    <a href='file:///~/anaconda3/envs/rubrix/lib/python3.10/site-packages/rubrix/__init__.py?line=181'>182</a>\u001b[0m )\n",
      "File \u001b[0;32m~/anaconda3/envs/rubrix/lib/python3.10/site-packages/rubrix/client/rubrix_client.py:229\u001b[0m, in \u001b[0;36mRubrixClient.log\u001b[0;34m(self, records, name, tags, metadata, chunk_size, verbose)\u001b[0m\n\u001b[1;32m    <a href='file:///~/anaconda3/envs/rubrix/lib/python3.10/site-packages/rubrix/client/rubrix_client.py?line=225'>226</a>\u001b[0m \u001b[39mfor\u001b[39;00m i \u001b[39min\u001b[39;00m \u001b[39mrange\u001b[39m(\u001b[39m0\u001b[39m, \u001b[39mlen\u001b[39m(records), chunk_size):\n\u001b[1;32m    <a href='file:///~/anaconda3/envs/rubrix/lib/python3.10/site-packages/rubrix/client/rubrix_client.py?line=226'>227</a>\u001b[0m     chunk \u001b[39m=\u001b[39m records[i : i \u001b[39m+\u001b[39m chunk_size]\n\u001b[0;32m--> <a href='file:///~/anaconda3/envs/rubrix/lib/python3.10/site-packages/rubrix/client/rubrix_client.py?line=228'>229</a>\u001b[0m     response \u001b[39m=\u001b[39m bulk_records_function(\n\u001b[1;32m    <a href='file:///~/anaconda3/envs/rubrix/lib/python3.10/site-packages/rubrix/client/rubrix_client.py?line=229'>230</a>\u001b[0m         client\u001b[39m=\u001b[39;49m\u001b[39mself\u001b[39;49m\u001b[39m.\u001b[39;49m_client,\n\u001b[1;32m    <a href='file:///~/anaconda3/envs/rubrix/lib/python3.10/site-packages/rubrix/client/rubrix_client.py?line=230'>231</a>\u001b[0m         name\u001b[39m=\u001b[39;49mname,\n\u001b[1;32m    <a href='file:///~/anaconda3/envs/rubrix/lib/python3.10/site-packages/rubrix/client/rubrix_client.py?line=231'>232</a>\u001b[0m         json_body\u001b[39m=\u001b[39;49mbulk_class(\n\u001b[1;32m    <a href='file:///~/anaconda3/envs/rubrix/lib/python3.10/site-packages/rubrix/client/rubrix_client.py?line=232'>233</a>\u001b[0m             tags\u001b[39m=\u001b[39;49mtags,\n\u001b[1;32m    <a href='file:///~/anaconda3/envs/rubrix/lib/python3.10/site-packages/rubrix/client/rubrix_client.py?line=233'>234</a>\u001b[0m             metadata\u001b[39m=\u001b[39;49mmetadata,\n\u001b[1;32m    <a href='file:///~/anaconda3/envs/rubrix/lib/python3.10/site-packages/rubrix/client/rubrix_client.py?line=234'>235</a>\u001b[0m             records\u001b[39m=\u001b[39;49m[to_sdk_model(r) \u001b[39mfor\u001b[39;49;00m r \u001b[39min\u001b[39;49;00m chunk],\n\u001b[1;32m    <a href='file:///~/anaconda3/envs/rubrix/lib/python3.10/site-packages/rubrix/client/rubrix_client.py?line=235'>236</a>\u001b[0m         ),\n\u001b[1;32m    <a href='file:///~/anaconda3/envs/rubrix/lib/python3.10/site-packages/rubrix/client/rubrix_client.py?line=236'>237</a>\u001b[0m     )\n\u001b[1;32m    <a href='file:///~/anaconda3/envs/rubrix/lib/python3.10/site-packages/rubrix/client/rubrix_client.py?line=238'>239</a>\u001b[0m     _check_response_errors(response)\n\u001b[1;32m    <a href='file:///~/anaconda3/envs/rubrix/lib/python3.10/site-packages/rubrix/client/rubrix_client.py?line=239'>240</a>\u001b[0m     processed \u001b[39m+\u001b[39m\u001b[39m=\u001b[39m response\u001b[39m.\u001b[39mparsed\u001b[39m.\u001b[39mprocessed\n",
      "File \u001b[0;32m~/anaconda3/envs/rubrix/lib/python3.10/site-packages/rubrix/client/sdk/text_classification/api.py:50\u001b[0m, in \u001b[0;36mbulk\u001b[0;34m(client, name, json_body)\u001b[0m\n\u001b[1;32m     <a href='file:///~/anaconda3/envs/rubrix/lib/python3.10/site-packages/rubrix/client/sdk/text_classification/api.py?line=40'>41</a>\u001b[0m \u001b[39mdef\u001b[39;00m \u001b[39mbulk\u001b[39m(\n\u001b[1;32m     <a href='file:///~/anaconda3/envs/rubrix/lib/python3.10/site-packages/rubrix/client/sdk/text_classification/api.py?line=41'>42</a>\u001b[0m     client: AuthenticatedClient,\n\u001b[1;32m     <a href='file:///~/anaconda3/envs/rubrix/lib/python3.10/site-packages/rubrix/client/sdk/text_classification/api.py?line=42'>43</a>\u001b[0m     name: \u001b[39mstr\u001b[39m,\n\u001b[1;32m     <a href='file:///~/anaconda3/envs/rubrix/lib/python3.10/site-packages/rubrix/client/sdk/text_classification/api.py?line=43'>44</a>\u001b[0m     json_body: TextClassificationBulkData,\n\u001b[1;32m     <a href='file:///~/anaconda3/envs/rubrix/lib/python3.10/site-packages/rubrix/client/sdk/text_classification/api.py?line=44'>45</a>\u001b[0m ) \u001b[39m-\u001b[39m\u001b[39m>\u001b[39m Response[BulkResponse]:\n\u001b[1;32m     <a href='file:///~/anaconda3/envs/rubrix/lib/python3.10/site-packages/rubrix/client/sdk/text_classification/api.py?line=45'>46</a>\u001b[0m     url \u001b[39m=\u001b[39m \u001b[39m\"\u001b[39m\u001b[39m{}\u001b[39;00m\u001b[39m/api/datasets/\u001b[39m\u001b[39m{name}\u001b[39;00m\u001b[39m/TextClassification:bulk\u001b[39m\u001b[39m\"\u001b[39m\u001b[39m.\u001b[39mformat(\n\u001b[1;32m     <a href='file:///~/anaconda3/envs/rubrix/lib/python3.10/site-packages/rubrix/client/sdk/text_classification/api.py?line=46'>47</a>\u001b[0m         client\u001b[39m.\u001b[39mbase_url, name\u001b[39m=\u001b[39mname\n\u001b[1;32m     <a href='file:///~/anaconda3/envs/rubrix/lib/python3.10/site-packages/rubrix/client/sdk/text_classification/api.py?line=47'>48</a>\u001b[0m     )\n\u001b[0;32m---> <a href='file:///~/anaconda3/envs/rubrix/lib/python3.10/site-packages/rubrix/client/sdk/text_classification/api.py?line=49'>50</a>\u001b[0m     response \u001b[39m=\u001b[39m httpx\u001b[39m.\u001b[39;49mpost(\n\u001b[1;32m     <a href='file:///~/anaconda3/envs/rubrix/lib/python3.10/site-packages/rubrix/client/sdk/text_classification/api.py?line=50'>51</a>\u001b[0m         url\u001b[39m=\u001b[39;49murl,\n\u001b[1;32m     <a href='file:///~/anaconda3/envs/rubrix/lib/python3.10/site-packages/rubrix/client/sdk/text_classification/api.py?line=51'>52</a>\u001b[0m         headers\u001b[39m=\u001b[39;49mclient\u001b[39m.\u001b[39;49mget_headers(),\n\u001b[1;32m     <a href='file:///~/anaconda3/envs/rubrix/lib/python3.10/site-packages/rubrix/client/sdk/text_classification/api.py?line=52'>53</a>\u001b[0m         cookies\u001b[39m=\u001b[39;49mclient\u001b[39m.\u001b[39;49mget_cookies(),\n\u001b[1;32m     <a href='file:///~/anaconda3/envs/rubrix/lib/python3.10/site-packages/rubrix/client/sdk/text_classification/api.py?line=53'>54</a>\u001b[0m         timeout\u001b[39m=\u001b[39;49mclient\u001b[39m.\u001b[39;49mget_timeout(),\n\u001b[1;32m     <a href='file:///~/anaconda3/envs/rubrix/lib/python3.10/site-packages/rubrix/client/sdk/text_classification/api.py?line=54'>55</a>\u001b[0m         json\u001b[39m=\u001b[39;49mjson_body\u001b[39m.\u001b[39;49mdict(by_alias\u001b[39m=\u001b[39;49m\u001b[39mTrue\u001b[39;49;00m),\n\u001b[1;32m     <a href='file:///~/anaconda3/envs/rubrix/lib/python3.10/site-packages/rubrix/client/sdk/text_classification/api.py?line=55'>56</a>\u001b[0m     )\n\u001b[1;32m     <a href='file:///~/anaconda3/envs/rubrix/lib/python3.10/site-packages/rubrix/client/sdk/text_classification/api.py?line=57'>58</a>\u001b[0m     \u001b[39mreturn\u001b[39;00m build_bulk_response(response, name\u001b[39m=\u001b[39mname, body\u001b[39m=\u001b[39mjson_body)\n",
      "File \u001b[0;32m~/anaconda3/envs/rubrix/lib/python3.10/site-packages/httpx/_api.py:296\u001b[0m, in \u001b[0;36mpost\u001b[0;34m(url, content, data, files, json, params, headers, cookies, auth, proxies, allow_redirects, cert, verify, timeout, trust_env)\u001b[0m\n\u001b[1;32m    <a href='file:///~/anaconda3/envs/rubrix/lib/python3.10/site-packages/httpx/_api.py?line=272'>273</a>\u001b[0m \u001b[39mdef\u001b[39;00m \u001b[39mpost\u001b[39m(\n\u001b[1;32m    <a href='file:///~/anaconda3/envs/rubrix/lib/python3.10/site-packages/httpx/_api.py?line=273'>274</a>\u001b[0m     url: URLTypes,\n\u001b[1;32m    <a href='file:///~/anaconda3/envs/rubrix/lib/python3.10/site-packages/httpx/_api.py?line=274'>275</a>\u001b[0m     \u001b[39m*\u001b[39m,\n\u001b[0;32m   (...)\u001b[0m\n\u001b[1;32m    <a href='file:///~/anaconda3/envs/rubrix/lib/python3.10/site-packages/httpx/_api.py?line=288'>289</a>\u001b[0m     trust_env: \u001b[39mbool\u001b[39m \u001b[39m=\u001b[39m \u001b[39mTrue\u001b[39;00m,\n\u001b[1;32m    <a href='file:///~/anaconda3/envs/rubrix/lib/python3.10/site-packages/httpx/_api.py?line=289'>290</a>\u001b[0m ) \u001b[39m-\u001b[39m\u001b[39m>\u001b[39m Response:\n\u001b[1;32m    <a href='file:///~/anaconda3/envs/rubrix/lib/python3.10/site-packages/httpx/_api.py?line=290'>291</a>\u001b[0m     \u001b[39m\"\"\"\u001b[39;00m\n\u001b[1;32m    <a href='file:///~/anaconda3/envs/rubrix/lib/python3.10/site-packages/httpx/_api.py?line=291'>292</a>\u001b[0m \u001b[39m    Sends a `POST` request.\u001b[39;00m\n\u001b[1;32m    <a href='file:///~/anaconda3/envs/rubrix/lib/python3.10/site-packages/httpx/_api.py?line=292'>293</a>\u001b[0m \n\u001b[1;32m    <a href='file:///~/anaconda3/envs/rubrix/lib/python3.10/site-packages/httpx/_api.py?line=293'>294</a>\u001b[0m \u001b[39m    **Parameters**: See `httpx.request`.\u001b[39;00m\n\u001b[1;32m    <a href='file:///~/anaconda3/envs/rubrix/lib/python3.10/site-packages/httpx/_api.py?line=294'>295</a>\u001b[0m \u001b[39m    \"\"\"\u001b[39;00m\n\u001b[0;32m--> <a href='file:///~/anaconda3/envs/rubrix/lib/python3.10/site-packages/httpx/_api.py?line=295'>296</a>\u001b[0m     \u001b[39mreturn\u001b[39;00m request(\n\u001b[1;32m    <a href='file:///~/anaconda3/envs/rubrix/lib/python3.10/site-packages/httpx/_api.py?line=296'>297</a>\u001b[0m         \u001b[39m\"\u001b[39;49m\u001b[39mPOST\u001b[39;49m\u001b[39m\"\u001b[39;49m,\n\u001b[1;32m    <a href='file:///~/anaconda3/envs/rubrix/lib/python3.10/site-packages/httpx/_api.py?line=297'>298</a>\u001b[0m         url,\n\u001b[1;32m    <a href='file:///~/anaconda3/envs/rubrix/lib/python3.10/site-packages/httpx/_api.py?line=298'>299</a>\u001b[0m         content\u001b[39m=\u001b[39;49mcontent,\n\u001b[1;32m    <a href='file:///~/anaconda3/envs/rubrix/lib/python3.10/site-packages/httpx/_api.py?line=299'>300</a>\u001b[0m         data\u001b[39m=\u001b[39;49mdata,\n\u001b[1;32m    <a href='file:///~/anaconda3/envs/rubrix/lib/python3.10/site-packages/httpx/_api.py?line=300'>301</a>\u001b[0m         files\u001b[39m=\u001b[39;49mfiles,\n\u001b[1;32m    <a href='file:///~/anaconda3/envs/rubrix/lib/python3.10/site-packages/httpx/_api.py?line=301'>302</a>\u001b[0m         json\u001b[39m=\u001b[39;49mjson,\n\u001b[1;32m    <a href='file:///~/anaconda3/envs/rubrix/lib/python3.10/site-packages/httpx/_api.py?line=302'>303</a>\u001b[0m         params\u001b[39m=\u001b[39;49mparams,\n\u001b[1;32m    <a href='file:///~/anaconda3/envs/rubrix/lib/python3.10/site-packages/httpx/_api.py?line=303'>304</a>\u001b[0m         headers\u001b[39m=\u001b[39;49mheaders,\n\u001b[1;32m    <a href='file:///~/anaconda3/envs/rubrix/lib/python3.10/site-packages/httpx/_api.py?line=304'>305</a>\u001b[0m         cookies\u001b[39m=\u001b[39;49mcookies,\n\u001b[1;32m    <a href='file:///~/anaconda3/envs/rubrix/lib/python3.10/site-packages/httpx/_api.py?line=305'>306</a>\u001b[0m         auth\u001b[39m=\u001b[39;49mauth,\n\u001b[1;32m    <a href='file:///~/anaconda3/envs/rubrix/lib/python3.10/site-packages/httpx/_api.py?line=306'>307</a>\u001b[0m         proxies\u001b[39m=\u001b[39;49mproxies,\n\u001b[1;32m    <a href='file:///~/anaconda3/envs/rubrix/lib/python3.10/site-packages/httpx/_api.py?line=307'>308</a>\u001b[0m         allow_redirects\u001b[39m=\u001b[39;49mallow_redirects,\n\u001b[1;32m    <a href='file:///~/anaconda3/envs/rubrix/lib/python3.10/site-packages/httpx/_api.py?line=308'>309</a>\u001b[0m         cert\u001b[39m=\u001b[39;49mcert,\n\u001b[1;32m    <a href='file:///~/anaconda3/envs/rubrix/lib/python3.10/site-packages/httpx/_api.py?line=309'>310</a>\u001b[0m         verify\u001b[39m=\u001b[39;49mverify,\n\u001b[1;32m    <a href='file:///~/anaconda3/envs/rubrix/lib/python3.10/site-packages/httpx/_api.py?line=310'>311</a>\u001b[0m         timeout\u001b[39m=\u001b[39;49mtimeout,\n\u001b[1;32m    <a href='file:///~/anaconda3/envs/rubrix/lib/python3.10/site-packages/httpx/_api.py?line=311'>312</a>\u001b[0m         trust_env\u001b[39m=\u001b[39;49mtrust_env,\n\u001b[1;32m    <a href='file:///~/anaconda3/envs/rubrix/lib/python3.10/site-packages/httpx/_api.py?line=312'>313</a>\u001b[0m     )\n",
      "File \u001b[0;32m~/anaconda3/envs/rubrix/lib/python3.10/site-packages/httpx/_api.py:93\u001b[0m, in \u001b[0;36mrequest\u001b[0;34m(method, url, params, content, data, files, json, headers, cookies, auth, proxies, timeout, allow_redirects, verify, cert, trust_env)\u001b[0m\n\u001b[1;32m     <a href='file:///~/anaconda3/envs/rubrix/lib/python3.10/site-packages/httpx/_api.py?line=40'>41</a>\u001b[0m \u001b[39m\"\"\"\u001b[39;00m\n\u001b[1;32m     <a href='file:///~/anaconda3/envs/rubrix/lib/python3.10/site-packages/httpx/_api.py?line=41'>42</a>\u001b[0m \u001b[39mSends an HTTP request.\u001b[39;00m\n\u001b[1;32m     <a href='file:///~/anaconda3/envs/rubrix/lib/python3.10/site-packages/httpx/_api.py?line=42'>43</a>\u001b[0m \n\u001b[0;32m   (...)\u001b[0m\n\u001b[1;32m     <a href='file:///~/anaconda3/envs/rubrix/lib/python3.10/site-packages/httpx/_api.py?line=87'>88</a>\u001b[0m \u001b[39m```\u001b[39;00m\n\u001b[1;32m     <a href='file:///~/anaconda3/envs/rubrix/lib/python3.10/site-packages/httpx/_api.py?line=88'>89</a>\u001b[0m \u001b[39m\"\"\"\u001b[39;00m\n\u001b[1;32m     <a href='file:///~/anaconda3/envs/rubrix/lib/python3.10/site-packages/httpx/_api.py?line=89'>90</a>\u001b[0m \u001b[39mwith\u001b[39;00m Client(\n\u001b[1;32m     <a href='file:///~/anaconda3/envs/rubrix/lib/python3.10/site-packages/httpx/_api.py?line=90'>91</a>\u001b[0m     proxies\u001b[39m=\u001b[39mproxies, cert\u001b[39m=\u001b[39mcert, verify\u001b[39m=\u001b[39mverify, timeout\u001b[39m=\u001b[39mtimeout, trust_env\u001b[39m=\u001b[39mtrust_env\n\u001b[1;32m     <a href='file:///~/anaconda3/envs/rubrix/lib/python3.10/site-packages/httpx/_api.py?line=91'>92</a>\u001b[0m ) \u001b[39mas\u001b[39;00m client:\n\u001b[0;32m---> <a href='file:///~/anaconda3/envs/rubrix/lib/python3.10/site-packages/httpx/_api.py?line=92'>93</a>\u001b[0m     \u001b[39mreturn\u001b[39;00m client\u001b[39m.\u001b[39;49mrequest(\n\u001b[1;32m     <a href='file:///~/anaconda3/envs/rubrix/lib/python3.10/site-packages/httpx/_api.py?line=93'>94</a>\u001b[0m         method\u001b[39m=\u001b[39;49mmethod,\n\u001b[1;32m     <a href='file:///~/anaconda3/envs/rubrix/lib/python3.10/site-packages/httpx/_api.py?line=94'>95</a>\u001b[0m         url\u001b[39m=\u001b[39;49murl,\n\u001b[1;32m     <a href='file:///~/anaconda3/envs/rubrix/lib/python3.10/site-packages/httpx/_api.py?line=95'>96</a>\u001b[0m         content\u001b[39m=\u001b[39;49mcontent,\n\u001b[1;32m     <a href='file:///~/anaconda3/envs/rubrix/lib/python3.10/site-packages/httpx/_api.py?line=96'>97</a>\u001b[0m         data\u001b[39m=\u001b[39;49mdata,\n\u001b[1;32m     <a href='file:///~/anaconda3/envs/rubrix/lib/python3.10/site-packages/httpx/_api.py?line=97'>98</a>\u001b[0m         files\u001b[39m=\u001b[39;49mfiles,\n\u001b[1;32m     <a href='file:///~/anaconda3/envs/rubrix/lib/python3.10/site-packages/httpx/_api.py?line=98'>99</a>\u001b[0m         json\u001b[39m=\u001b[39;49mjson,\n\u001b[1;32m    <a href='file:///~/anaconda3/envs/rubrix/lib/python3.10/site-packages/httpx/_api.py?line=99'>100</a>\u001b[0m         params\u001b[39m=\u001b[39;49mparams,\n\u001b[1;32m    <a href='file:///~/anaconda3/envs/rubrix/lib/python3.10/site-packages/httpx/_api.py?line=100'>101</a>\u001b[0m         headers\u001b[39m=\u001b[39;49mheaders,\n\u001b[1;32m    <a href='file:///~/anaconda3/envs/rubrix/lib/python3.10/site-packages/httpx/_api.py?line=101'>102</a>\u001b[0m         cookies\u001b[39m=\u001b[39;49mcookies,\n\u001b[1;32m    <a href='file:///~/anaconda3/envs/rubrix/lib/python3.10/site-packages/httpx/_api.py?line=102'>103</a>\u001b[0m         auth\u001b[39m=\u001b[39;49mauth,\n\u001b[1;32m    <a href='file:///~/anaconda3/envs/rubrix/lib/python3.10/site-packages/httpx/_api.py?line=103'>104</a>\u001b[0m         allow_redirects\u001b[39m=\u001b[39;49mallow_redirects,\n\u001b[1;32m    <a href='file:///~/anaconda3/envs/rubrix/lib/python3.10/site-packages/httpx/_api.py?line=104'>105</a>\u001b[0m     )\n",
      "File \u001b[0;32m~/anaconda3/envs/rubrix/lib/python3.10/site-packages/httpx/_client.py:721\u001b[0m, in \u001b[0;36mClient.request\u001b[0;34m(self, method, url, content, data, files, json, params, headers, cookies, auth, allow_redirects, timeout)\u001b[0m\n\u001b[1;32m    <a href='file:///~/anaconda3/envs/rubrix/lib/python3.10/site-packages/httpx/_client.py?line=693'>694</a>\u001b[0m \u001b[39m\"\"\"\u001b[39;00m\n\u001b[1;32m    <a href='file:///~/anaconda3/envs/rubrix/lib/python3.10/site-packages/httpx/_client.py?line=694'>695</a>\u001b[0m \u001b[39mBuild and send a request.\u001b[39;00m\n\u001b[1;32m    <a href='file:///~/anaconda3/envs/rubrix/lib/python3.10/site-packages/httpx/_client.py?line=695'>696</a>\u001b[0m \n\u001b[0;32m   (...)\u001b[0m\n\u001b[1;32m    <a href='file:///~/anaconda3/envs/rubrix/lib/python3.10/site-packages/httpx/_client.py?line=707'>708</a>\u001b[0m \u001b[39m[0]: /advanced/#merging-of-configuration\u001b[39;00m\n\u001b[1;32m    <a href='file:///~/anaconda3/envs/rubrix/lib/python3.10/site-packages/httpx/_client.py?line=708'>709</a>\u001b[0m \u001b[39m\"\"\"\u001b[39;00m\n\u001b[1;32m    <a href='file:///~/anaconda3/envs/rubrix/lib/python3.10/site-packages/httpx/_client.py?line=709'>710</a>\u001b[0m request \u001b[39m=\u001b[39m \u001b[39mself\u001b[39m\u001b[39m.\u001b[39mbuild_request(\n\u001b[1;32m    <a href='file:///~/anaconda3/envs/rubrix/lib/python3.10/site-packages/httpx/_client.py?line=710'>711</a>\u001b[0m     method\u001b[39m=\u001b[39mmethod,\n\u001b[1;32m    <a href='file:///~/anaconda3/envs/rubrix/lib/python3.10/site-packages/httpx/_client.py?line=711'>712</a>\u001b[0m     url\u001b[39m=\u001b[39murl,\n\u001b[0;32m   (...)\u001b[0m\n\u001b[1;32m    <a href='file:///~/anaconda3/envs/rubrix/lib/python3.10/site-packages/httpx/_client.py?line=718'>719</a>\u001b[0m     cookies\u001b[39m=\u001b[39mcookies,\n\u001b[1;32m    <a href='file:///~/anaconda3/envs/rubrix/lib/python3.10/site-packages/httpx/_client.py?line=719'>720</a>\u001b[0m )\n\u001b[0;32m--> <a href='file:///~/anaconda3/envs/rubrix/lib/python3.10/site-packages/httpx/_client.py?line=720'>721</a>\u001b[0m \u001b[39mreturn\u001b[39;00m \u001b[39mself\u001b[39;49m\u001b[39m.\u001b[39;49msend(\n\u001b[1;32m    <a href='file:///~/anaconda3/envs/rubrix/lib/python3.10/site-packages/httpx/_client.py?line=721'>722</a>\u001b[0m     request, auth\u001b[39m=\u001b[39;49mauth, allow_redirects\u001b[39m=\u001b[39;49mallow_redirects, timeout\u001b[39m=\u001b[39;49mtimeout\n\u001b[1;32m    <a href='file:///~/anaconda3/envs/rubrix/lib/python3.10/site-packages/httpx/_client.py?line=722'>723</a>\u001b[0m )\n",
      "File \u001b[0;32m~/anaconda3/envs/rubrix/lib/python3.10/site-packages/httpx/_client.py:753\u001b[0m, in \u001b[0;36mClient.send\u001b[0;34m(self, request, stream, auth, allow_redirects, timeout)\u001b[0m\n\u001b[1;32m    <a href='file:///~/anaconda3/envs/rubrix/lib/python3.10/site-packages/httpx/_client.py?line=748'>749</a>\u001b[0m timeout \u001b[39m=\u001b[39m \u001b[39mself\u001b[39m\u001b[39m.\u001b[39mtimeout \u001b[39mif\u001b[39;00m \u001b[39misinstance\u001b[39m(timeout, UnsetType) \u001b[39melse\u001b[39;00m Timeout(timeout)\n\u001b[1;32m    <a href='file:///~/anaconda3/envs/rubrix/lib/python3.10/site-packages/httpx/_client.py?line=750'>751</a>\u001b[0m auth \u001b[39m=\u001b[39m \u001b[39mself\u001b[39m\u001b[39m.\u001b[39m_build_request_auth(request, auth)\n\u001b[0;32m--> <a href='file:///~/anaconda3/envs/rubrix/lib/python3.10/site-packages/httpx/_client.py?line=752'>753</a>\u001b[0m response \u001b[39m=\u001b[39m \u001b[39mself\u001b[39;49m\u001b[39m.\u001b[39;49m_send_handling_auth(\n\u001b[1;32m    <a href='file:///~/anaconda3/envs/rubrix/lib/python3.10/site-packages/httpx/_client.py?line=753'>754</a>\u001b[0m     request,\n\u001b[1;32m    <a href='file:///~/anaconda3/envs/rubrix/lib/python3.10/site-packages/httpx/_client.py?line=754'>755</a>\u001b[0m     auth\u001b[39m=\u001b[39;49mauth,\n\u001b[1;32m    <a href='file:///~/anaconda3/envs/rubrix/lib/python3.10/site-packages/httpx/_client.py?line=755'>756</a>\u001b[0m     timeout\u001b[39m=\u001b[39;49mtimeout,\n\u001b[1;32m    <a href='file:///~/anaconda3/envs/rubrix/lib/python3.10/site-packages/httpx/_client.py?line=756'>757</a>\u001b[0m     allow_redirects\u001b[39m=\u001b[39;49mallow_redirects,\n\u001b[1;32m    <a href='file:///~/anaconda3/envs/rubrix/lib/python3.10/site-packages/httpx/_client.py?line=757'>758</a>\u001b[0m     history\u001b[39m=\u001b[39;49m[],\n\u001b[1;32m    <a href='file:///~/anaconda3/envs/rubrix/lib/python3.10/site-packages/httpx/_client.py?line=758'>759</a>\u001b[0m )\n\u001b[1;32m    <a href='file:///~/anaconda3/envs/rubrix/lib/python3.10/site-packages/httpx/_client.py?line=760'>761</a>\u001b[0m \u001b[39mif\u001b[39;00m \u001b[39mnot\u001b[39;00m stream:\n\u001b[1;32m    <a href='file:///~/anaconda3/envs/rubrix/lib/python3.10/site-packages/httpx/_client.py?line=761'>762</a>\u001b[0m     \u001b[39mtry\u001b[39;00m:\n",
      "File \u001b[0;32m~/anaconda3/envs/rubrix/lib/python3.10/site-packages/httpx/_client.py:791\u001b[0m, in \u001b[0;36mClient._send_handling_auth\u001b[0;34m(self, request, auth, timeout, allow_redirects, history)\u001b[0m\n\u001b[1;32m    <a href='file:///~/anaconda3/envs/rubrix/lib/python3.10/site-packages/httpx/_client.py?line=787'>788</a>\u001b[0m     hook(request)\n\u001b[1;32m    <a href='file:///~/anaconda3/envs/rubrix/lib/python3.10/site-packages/httpx/_client.py?line=789'>790</a>\u001b[0m \u001b[39mwhile\u001b[39;00m \u001b[39mTrue\u001b[39;00m:\n\u001b[0;32m--> <a href='file:///~/anaconda3/envs/rubrix/lib/python3.10/site-packages/httpx/_client.py?line=790'>791</a>\u001b[0m     response \u001b[39m=\u001b[39m \u001b[39mself\u001b[39;49m\u001b[39m.\u001b[39;49m_send_handling_redirects(\n\u001b[1;32m    <a href='file:///~/anaconda3/envs/rubrix/lib/python3.10/site-packages/httpx/_client.py?line=791'>792</a>\u001b[0m         request,\n\u001b[1;32m    <a href='file:///~/anaconda3/envs/rubrix/lib/python3.10/site-packages/httpx/_client.py?line=792'>793</a>\u001b[0m         timeout\u001b[39m=\u001b[39;49mtimeout,\n\u001b[1;32m    <a href='file:///~/anaconda3/envs/rubrix/lib/python3.10/site-packages/httpx/_client.py?line=793'>794</a>\u001b[0m         allow_redirects\u001b[39m=\u001b[39;49mallow_redirects,\n\u001b[1;32m    <a href='file:///~/anaconda3/envs/rubrix/lib/python3.10/site-packages/httpx/_client.py?line=794'>795</a>\u001b[0m         history\u001b[39m=\u001b[39;49mhistory,\n\u001b[1;32m    <a href='file:///~/anaconda3/envs/rubrix/lib/python3.10/site-packages/httpx/_client.py?line=795'>796</a>\u001b[0m     )\n\u001b[1;32m    <a href='file:///~/anaconda3/envs/rubrix/lib/python3.10/site-packages/httpx/_client.py?line=796'>797</a>\u001b[0m     \u001b[39mtry\u001b[39;00m:\n\u001b[1;32m    <a href='file:///~/anaconda3/envs/rubrix/lib/python3.10/site-packages/httpx/_client.py?line=797'>798</a>\u001b[0m         next_request \u001b[39m=\u001b[39m auth_flow\u001b[39m.\u001b[39msend(response)\n",
      "File \u001b[0;32m~/anaconda3/envs/rubrix/lib/python3.10/site-packages/httpx/_client.py:823\u001b[0m, in \u001b[0;36mClient._send_handling_redirects\u001b[0;34m(self, request, timeout, allow_redirects, history)\u001b[0m\n\u001b[1;32m    <a href='file:///~/anaconda3/envs/rubrix/lib/python3.10/site-packages/httpx/_client.py?line=817'>818</a>\u001b[0m \u001b[39mif\u001b[39;00m \u001b[39mlen\u001b[39m(history) \u001b[39m>\u001b[39m \u001b[39mself\u001b[39m\u001b[39m.\u001b[39mmax_redirects:\n\u001b[1;32m    <a href='file:///~/anaconda3/envs/rubrix/lib/python3.10/site-packages/httpx/_client.py?line=818'>819</a>\u001b[0m     \u001b[39mraise\u001b[39;00m TooManyRedirects(\n\u001b[1;32m    <a href='file:///~/anaconda3/envs/rubrix/lib/python3.10/site-packages/httpx/_client.py?line=819'>820</a>\u001b[0m         \u001b[39m\"\u001b[39m\u001b[39mExceeded maximum allowed redirects.\u001b[39m\u001b[39m\"\u001b[39m, request\u001b[39m=\u001b[39mrequest\n\u001b[1;32m    <a href='file:///~/anaconda3/envs/rubrix/lib/python3.10/site-packages/httpx/_client.py?line=820'>821</a>\u001b[0m     )\n\u001b[0;32m--> <a href='file:///~/anaconda3/envs/rubrix/lib/python3.10/site-packages/httpx/_client.py?line=822'>823</a>\u001b[0m response \u001b[39m=\u001b[39m \u001b[39mself\u001b[39;49m\u001b[39m.\u001b[39;49m_send_single_request(request, timeout)\n\u001b[1;32m    <a href='file:///~/anaconda3/envs/rubrix/lib/python3.10/site-packages/httpx/_client.py?line=823'>824</a>\u001b[0m response\u001b[39m.\u001b[39mhistory \u001b[39m=\u001b[39m \u001b[39mlist\u001b[39m(history)\n\u001b[1;32m    <a href='file:///~/anaconda3/envs/rubrix/lib/python3.10/site-packages/httpx/_client.py?line=825'>826</a>\u001b[0m \u001b[39mif\u001b[39;00m \u001b[39mnot\u001b[39;00m response\u001b[39m.\u001b[39mis_redirect:\n",
      "File \u001b[0;32m~/anaconda3/envs/rubrix/lib/python3.10/site-packages/httpx/_client.py:854\u001b[0m, in \u001b[0;36mClient._send_single_request\u001b[0;34m(self, request, timeout)\u001b[0m\n\u001b[1;32m    <a href='file:///~/anaconda3/envs/rubrix/lib/python3.10/site-packages/httpx/_client.py?line=850'>851</a>\u001b[0m timer\u001b[39m.\u001b[39msync_start()\n\u001b[1;32m    <a href='file:///~/anaconda3/envs/rubrix/lib/python3.10/site-packages/httpx/_client.py?line=852'>853</a>\u001b[0m \u001b[39mwith\u001b[39;00m map_exceptions(HTTPCORE_EXC_MAP, request\u001b[39m=\u001b[39mrequest):\n\u001b[0;32m--> <a href='file:///~/anaconda3/envs/rubrix/lib/python3.10/site-packages/httpx/_client.py?line=853'>854</a>\u001b[0m     (status_code, headers, stream, ext) \u001b[39m=\u001b[39m transport\u001b[39m.\u001b[39;49mrequest(\n\u001b[1;32m    <a href='file:///~/anaconda3/envs/rubrix/lib/python3.10/site-packages/httpx/_client.py?line=854'>855</a>\u001b[0m         request\u001b[39m.\u001b[39;49mmethod\u001b[39m.\u001b[39;49mencode(),\n\u001b[1;32m    <a href='file:///~/anaconda3/envs/rubrix/lib/python3.10/site-packages/httpx/_client.py?line=855'>856</a>\u001b[0m         request\u001b[39m.\u001b[39;49murl\u001b[39m.\u001b[39;49mraw,\n\u001b[1;32m    <a href='file:///~/anaconda3/envs/rubrix/lib/python3.10/site-packages/httpx/_client.py?line=856'>857</a>\u001b[0m         headers\u001b[39m=\u001b[39;49mrequest\u001b[39m.\u001b[39;49mheaders\u001b[39m.\u001b[39;49mraw,\n\u001b[1;32m    <a href='file:///~/anaconda3/envs/rubrix/lib/python3.10/site-packages/httpx/_client.py?line=857'>858</a>\u001b[0m         stream\u001b[39m=\u001b[39;49mrequest\u001b[39m.\u001b[39;49mstream,  \u001b[39m# type: ignore\u001b[39;49;00m\n\u001b[1;32m    <a href='file:///~/anaconda3/envs/rubrix/lib/python3.10/site-packages/httpx/_client.py?line=858'>859</a>\u001b[0m         ext\u001b[39m=\u001b[39;49m{\u001b[39m\"\u001b[39;49m\u001b[39mtimeout\u001b[39;49m\u001b[39m\"\u001b[39;49m: timeout\u001b[39m.\u001b[39;49mas_dict()},\n\u001b[1;32m    <a href='file:///~/anaconda3/envs/rubrix/lib/python3.10/site-packages/httpx/_client.py?line=859'>860</a>\u001b[0m     )\n\u001b[1;32m    <a href='file:///~/anaconda3/envs/rubrix/lib/python3.10/site-packages/httpx/_client.py?line=861'>862</a>\u001b[0m \u001b[39mdef\u001b[39;00m \u001b[39mon_close\u001b[39m(response: Response) \u001b[39m-\u001b[39m\u001b[39m>\u001b[39m \u001b[39mNone\u001b[39;00m:\n\u001b[1;32m    <a href='file:///~/anaconda3/envs/rubrix/lib/python3.10/site-packages/httpx/_client.py?line=862'>863</a>\u001b[0m     response\u001b[39m.\u001b[39melapsed \u001b[39m=\u001b[39m datetime\u001b[39m.\u001b[39mtimedelta(seconds\u001b[39m=\u001b[39mtimer\u001b[39m.\u001b[39msync_elapsed())\n",
      "File \u001b[0;32m~/anaconda3/envs/rubrix/lib/python3.10/site-packages/httpcore/_sync/connection_pool.py:200\u001b[0m, in \u001b[0;36mSyncConnectionPool.request\u001b[0;34m(self, method, url, headers, stream, ext)\u001b[0m\n\u001b[1;32m    <a href='file:///~/anaconda3/envs/rubrix/lib/python3.10/site-packages/httpcore/_sync/connection_pool.py?line=196'>197</a>\u001b[0m         logger\u001b[39m.\u001b[39mtrace(\u001b[39m\"\u001b[39m\u001b[39mreuse connection=\u001b[39m\u001b[39m%r\u001b[39;00m\u001b[39m\"\u001b[39m, connection)\n\u001b[1;32m    <a href='file:///~/anaconda3/envs/rubrix/lib/python3.10/site-packages/httpcore/_sync/connection_pool.py?line=198'>199</a>\u001b[0m \u001b[39mtry\u001b[39;00m:\n\u001b[0;32m--> <a href='file:///~/anaconda3/envs/rubrix/lib/python3.10/site-packages/httpcore/_sync/connection_pool.py?line=199'>200</a>\u001b[0m     response \u001b[39m=\u001b[39m connection\u001b[39m.\u001b[39;49mrequest(\n\u001b[1;32m    <a href='file:///~/anaconda3/envs/rubrix/lib/python3.10/site-packages/httpcore/_sync/connection_pool.py?line=200'>201</a>\u001b[0m         method, url, headers\u001b[39m=\u001b[39;49mheaders, stream\u001b[39m=\u001b[39;49mstream, ext\u001b[39m=\u001b[39;49mext\n\u001b[1;32m    <a href='file:///~/anaconda3/envs/rubrix/lib/python3.10/site-packages/httpcore/_sync/connection_pool.py?line=201'>202</a>\u001b[0m     )\n\u001b[1;32m    <a href='file:///~/anaconda3/envs/rubrix/lib/python3.10/site-packages/httpcore/_sync/connection_pool.py?line=202'>203</a>\u001b[0m \u001b[39mexcept\u001b[39;00m NewConnectionRequired:\n\u001b[1;32m    <a href='file:///~/anaconda3/envs/rubrix/lib/python3.10/site-packages/httpcore/_sync/connection_pool.py?line=203'>204</a>\u001b[0m     connection \u001b[39m=\u001b[39m \u001b[39mNone\u001b[39;00m\n",
      "File \u001b[0;32m~/anaconda3/envs/rubrix/lib/python3.10/site-packages/httpcore/_sync/connection.py:100\u001b[0m, in \u001b[0;36mSyncHTTPConnection.request\u001b[0;34m(self, method, url, headers, stream, ext)\u001b[0m\n\u001b[1;32m     <a href='file:///~/anaconda3/envs/rubrix/lib/python3.10/site-packages/httpcore/_sync/connection.py?line=95'>96</a>\u001b[0m \u001b[39massert\u001b[39;00m \u001b[39mself\u001b[39m\u001b[39m.\u001b[39mconnection \u001b[39mis\u001b[39;00m \u001b[39mnot\u001b[39;00m \u001b[39mNone\u001b[39;00m\n\u001b[1;32m     <a href='file:///~/anaconda3/envs/rubrix/lib/python3.10/site-packages/httpcore/_sync/connection.py?line=96'>97</a>\u001b[0m logger\u001b[39m.\u001b[39mtrace(\n\u001b[1;32m     <a href='file:///~/anaconda3/envs/rubrix/lib/python3.10/site-packages/httpcore/_sync/connection.py?line=97'>98</a>\u001b[0m     \u001b[39m\"\u001b[39m\u001b[39mconnection.request method=\u001b[39m\u001b[39m%r\u001b[39;00m\u001b[39m url=\u001b[39m\u001b[39m%r\u001b[39;00m\u001b[39m headers=\u001b[39m\u001b[39m%r\u001b[39;00m\u001b[39m\"\u001b[39m, method, url, headers\n\u001b[1;32m     <a href='file:///~/anaconda3/envs/rubrix/lib/python3.10/site-packages/httpcore/_sync/connection.py?line=98'>99</a>\u001b[0m )\n\u001b[0;32m--> <a href='file:///~/anaconda3/envs/rubrix/lib/python3.10/site-packages/httpcore/_sync/connection.py?line=99'>100</a>\u001b[0m \u001b[39mreturn\u001b[39;00m \u001b[39mself\u001b[39;49m\u001b[39m.\u001b[39;49mconnection\u001b[39m.\u001b[39;49mrequest(method, url, headers, stream, ext)\n",
      "File \u001b[0;32m~/anaconda3/envs/rubrix/lib/python3.10/site-packages/httpcore/_sync/http11.py:72\u001b[0m, in \u001b[0;36mSyncHTTP11Connection.request\u001b[0;34m(self, method, url, headers, stream, ext)\u001b[0m\n\u001b[1;32m     <a href='file:///~/anaconda3/envs/rubrix/lib/python3.10/site-packages/httpcore/_sync/http11.py?line=64'>65</a>\u001b[0m \u001b[39mself\u001b[39m\u001b[39m.\u001b[39m_send_request(method, url, headers, timeout)\n\u001b[1;32m     <a href='file:///~/anaconda3/envs/rubrix/lib/python3.10/site-packages/httpcore/_sync/http11.py?line=65'>66</a>\u001b[0m \u001b[39mself\u001b[39m\u001b[39m.\u001b[39m_send_request_body(stream, timeout)\n\u001b[1;32m     <a href='file:///~/anaconda3/envs/rubrix/lib/python3.10/site-packages/httpcore/_sync/http11.py?line=66'>67</a>\u001b[0m (\n\u001b[1;32m     <a href='file:///~/anaconda3/envs/rubrix/lib/python3.10/site-packages/httpcore/_sync/http11.py?line=67'>68</a>\u001b[0m     http_version,\n\u001b[1;32m     <a href='file:///~/anaconda3/envs/rubrix/lib/python3.10/site-packages/httpcore/_sync/http11.py?line=68'>69</a>\u001b[0m     status_code,\n\u001b[1;32m     <a href='file:///~/anaconda3/envs/rubrix/lib/python3.10/site-packages/httpcore/_sync/http11.py?line=69'>70</a>\u001b[0m     reason_phrase,\n\u001b[1;32m     <a href='file:///~/anaconda3/envs/rubrix/lib/python3.10/site-packages/httpcore/_sync/http11.py?line=70'>71</a>\u001b[0m     headers,\n\u001b[0;32m---> <a href='file:///~/anaconda3/envs/rubrix/lib/python3.10/site-packages/httpcore/_sync/http11.py?line=71'>72</a>\u001b[0m ) \u001b[39m=\u001b[39m \u001b[39mself\u001b[39;49m\u001b[39m.\u001b[39;49m_receive_response(timeout)\n\u001b[1;32m     <a href='file:///~/anaconda3/envs/rubrix/lib/python3.10/site-packages/httpcore/_sync/http11.py?line=72'>73</a>\u001b[0m response_stream \u001b[39m=\u001b[39m IteratorByteStream(\n\u001b[1;32m     <a href='file:///~/anaconda3/envs/rubrix/lib/python3.10/site-packages/httpcore/_sync/http11.py?line=73'>74</a>\u001b[0m     iterator\u001b[39m=\u001b[39m\u001b[39mself\u001b[39m\u001b[39m.\u001b[39m_receive_response_data(timeout),\n\u001b[1;32m     <a href='file:///~/anaconda3/envs/rubrix/lib/python3.10/site-packages/httpcore/_sync/http11.py?line=74'>75</a>\u001b[0m     close_func\u001b[39m=\u001b[39m\u001b[39mself\u001b[39m\u001b[39m.\u001b[39m_response_closed,\n\u001b[1;32m     <a href='file:///~/anaconda3/envs/rubrix/lib/python3.10/site-packages/httpcore/_sync/http11.py?line=75'>76</a>\u001b[0m )\n\u001b[1;32m     <a href='file:///~/anaconda3/envs/rubrix/lib/python3.10/site-packages/httpcore/_sync/http11.py?line=76'>77</a>\u001b[0m ext \u001b[39m=\u001b[39m {\n\u001b[1;32m     <a href='file:///~/anaconda3/envs/rubrix/lib/python3.10/site-packages/httpcore/_sync/http11.py?line=77'>78</a>\u001b[0m     \u001b[39m\"\u001b[39m\u001b[39mhttp_version\u001b[39m\u001b[39m\"\u001b[39m: http_version\u001b[39m.\u001b[39mdecode(\u001b[39m\"\u001b[39m\u001b[39mascii\u001b[39m\u001b[39m\"\u001b[39m, errors\u001b[39m=\u001b[39m\u001b[39m\"\u001b[39m\u001b[39mignore\u001b[39m\u001b[39m\"\u001b[39m),\n\u001b[1;32m     <a href='file:///~/anaconda3/envs/rubrix/lib/python3.10/site-packages/httpcore/_sync/http11.py?line=78'>79</a>\u001b[0m     \u001b[39m\"\u001b[39m\u001b[39mreason\u001b[39m\u001b[39m\"\u001b[39m: reason_phrase\u001b[39m.\u001b[39mdecode(\u001b[39m\"\u001b[39m\u001b[39mascii\u001b[39m\u001b[39m\"\u001b[39m, errors\u001b[39m=\u001b[39m\u001b[39m\"\u001b[39m\u001b[39mignore\u001b[39m\u001b[39m\"\u001b[39m),\n\u001b[1;32m     <a href='file:///~/anaconda3/envs/rubrix/lib/python3.10/site-packages/httpcore/_sync/http11.py?line=79'>80</a>\u001b[0m }\n",
      "File \u001b[0;32m~/anaconda3/envs/rubrix/lib/python3.10/site-packages/httpcore/_sync/http11.py:133\u001b[0m, in \u001b[0;36mSyncHTTP11Connection._receive_response\u001b[0;34m(self, timeout)\u001b[0m\n\u001b[1;32m    <a href='file:///~/anaconda3/envs/rubrix/lib/python3.10/site-packages/httpcore/_sync/http11.py?line=128'>129</a>\u001b[0m \u001b[39m\"\"\"\u001b[39;00m\n\u001b[1;32m    <a href='file:///~/anaconda3/envs/rubrix/lib/python3.10/site-packages/httpcore/_sync/http11.py?line=129'>130</a>\u001b[0m \u001b[39mRead the response status and headers from the network.\u001b[39;00m\n\u001b[1;32m    <a href='file:///~/anaconda3/envs/rubrix/lib/python3.10/site-packages/httpcore/_sync/http11.py?line=130'>131</a>\u001b[0m \u001b[39m\"\"\"\u001b[39;00m\n\u001b[1;32m    <a href='file:///~/anaconda3/envs/rubrix/lib/python3.10/site-packages/httpcore/_sync/http11.py?line=131'>132</a>\u001b[0m \u001b[39mwhile\u001b[39;00m \u001b[39mTrue\u001b[39;00m:\n\u001b[0;32m--> <a href='file:///~/anaconda3/envs/rubrix/lib/python3.10/site-packages/httpcore/_sync/http11.py?line=132'>133</a>\u001b[0m     event \u001b[39m=\u001b[39m \u001b[39mself\u001b[39;49m\u001b[39m.\u001b[39;49m_receive_event(timeout)\n\u001b[1;32m    <a href='file:///~/anaconda3/envs/rubrix/lib/python3.10/site-packages/httpcore/_sync/http11.py?line=133'>134</a>\u001b[0m     \u001b[39mif\u001b[39;00m \u001b[39misinstance\u001b[39m(event, h11\u001b[39m.\u001b[39mResponse):\n\u001b[1;32m    <a href='file:///~/anaconda3/envs/rubrix/lib/python3.10/site-packages/httpcore/_sync/http11.py?line=134'>135</a>\u001b[0m         \u001b[39mbreak\u001b[39;00m\n",
      "File \u001b[0;32m~/anaconda3/envs/rubrix/lib/python3.10/site-packages/httpcore/_sync/http11.py:163\u001b[0m, in \u001b[0;36mSyncHTTP11Connection._receive_event\u001b[0;34m(self, timeout)\u001b[0m\n\u001b[1;32m    <a href='file:///~/anaconda3/envs/rubrix/lib/python3.10/site-packages/httpcore/_sync/http11.py?line=159'>160</a>\u001b[0m     event \u001b[39m=\u001b[39m \u001b[39mself\u001b[39m\u001b[39m.\u001b[39mh11_state\u001b[39m.\u001b[39mnext_event()\n\u001b[1;32m    <a href='file:///~/anaconda3/envs/rubrix/lib/python3.10/site-packages/httpcore/_sync/http11.py?line=161'>162</a>\u001b[0m \u001b[39mif\u001b[39;00m event \u001b[39mis\u001b[39;00m h11\u001b[39m.\u001b[39mNEED_DATA:\n\u001b[0;32m--> <a href='file:///~/anaconda3/envs/rubrix/lib/python3.10/site-packages/httpcore/_sync/http11.py?line=162'>163</a>\u001b[0m     data \u001b[39m=\u001b[39m \u001b[39mself\u001b[39;49m\u001b[39m.\u001b[39;49msocket\u001b[39m.\u001b[39;49mread(\u001b[39mself\u001b[39;49m\u001b[39m.\u001b[39;49mREAD_NUM_BYTES, timeout)\n\u001b[1;32m    <a href='file:///~/anaconda3/envs/rubrix/lib/python3.10/site-packages/httpcore/_sync/http11.py?line=163'>164</a>\u001b[0m     \u001b[39mself\u001b[39m\u001b[39m.\u001b[39mh11_state\u001b[39m.\u001b[39mreceive_data(data)\n\u001b[1;32m    <a href='file:///~/anaconda3/envs/rubrix/lib/python3.10/site-packages/httpcore/_sync/http11.py?line=164'>165</a>\u001b[0m \u001b[39melse\u001b[39;00m:\n",
      "File \u001b[0;32m~/anaconda3/envs/rubrix/lib/python3.10/site-packages/httpcore/_backends/sync.py:62\u001b[0m, in \u001b[0;36mSyncSocketStream.read\u001b[0;34m(self, n, timeout)\u001b[0m\n\u001b[1;32m     <a href='file:///~/anaconda3/envs/rubrix/lib/python3.10/site-packages/httpcore/_backends/sync.py?line=59'>60</a>\u001b[0m \u001b[39mwith\u001b[39;00m map_exceptions(exc_map):\n\u001b[1;32m     <a href='file:///~/anaconda3/envs/rubrix/lib/python3.10/site-packages/httpcore/_backends/sync.py?line=60'>61</a>\u001b[0m     \u001b[39mself\u001b[39m\u001b[39m.\u001b[39msock\u001b[39m.\u001b[39msettimeout(read_timeout)\n\u001b[0;32m---> <a href='file:///~/anaconda3/envs/rubrix/lib/python3.10/site-packages/httpcore/_backends/sync.py?line=61'>62</a>\u001b[0m     \u001b[39mreturn\u001b[39;00m \u001b[39mself\u001b[39;49m\u001b[39m.\u001b[39;49msock\u001b[39m.\u001b[39;49mrecv(n)\n",
      "\u001b[0;31mKeyboardInterrupt\u001b[0m: "
     ]
    }
   ],
   "source": [
    "rb.log(data, name=\"full_data\", verbose=False)"
   ]
  },
  {
   "cell_type": "code",
   "execution_count": 17,
   "metadata": {},
   "outputs": [],
   "source": [
    "rd = rb.load(\"yrkesgruppe_2\", query=\"status:Validated\")"
   ]
  },
  {
   "cell_type": "code",
   "execution_count": 18,
   "metadata": {},
   "outputs": [
    {
     "data": {
      "text/plain": [
       "pandas.core.frame.DataFrame"
      ]
     },
     "execution_count": 18,
     "metadata": {},
     "output_type": "execute_result"
    }
   ],
   "source": [
    "type(rd)"
   ]
  },
  {
   "cell_type": "code",
   "execution_count": 20,
   "metadata": {},
   "outputs": [
    {
     "data": {
      "text/html": [
       "<div>\n",
       "<style scoped>\n",
       "    .dataframe tbody tr th:only-of-type {\n",
       "        vertical-align: middle;\n",
       "    }\n",
       "\n",
       "    .dataframe tbody tr th {\n",
       "        vertical-align: top;\n",
       "    }\n",
       "\n",
       "    .dataframe thead th {\n",
       "        text-align: right;\n",
       "    }\n",
       "</style>\n",
       "<table border=\"1\" class=\"dataframe\">\n",
       "  <thead>\n",
       "    <tr style=\"text-align: right;\">\n",
       "      <th></th>\n",
       "      <th>inputs</th>\n",
       "      <th>prediction</th>\n",
       "      <th>prediction_agent</th>\n",
       "      <th>annotation</th>\n",
       "      <th>annotation_agent</th>\n",
       "      <th>multi_label</th>\n",
       "      <th>explanation</th>\n",
       "      <th>id</th>\n",
       "      <th>metadata</th>\n",
       "      <th>status</th>\n",
       "      <th>event_timestamp</th>\n",
       "      <th>metrics</th>\n",
       "    </tr>\n",
       "  </thead>\n",
       "  <tbody>\n",
       "    <tr>\n",
       "      <th>0</th>\n",
       "      <td>{'gruppe': 'Serviceyrker og annet arbeid (2001...</td>\n",
       "      <td>None</td>\n",
       "      <td>None</td>\n",
       "      <td>office</td>\n",
       "      <td>rubrix</td>\n",
       "      <td>False</td>\n",
       "      <td>None</td>\n",
       "      <td>001d9319-7804-4a91-8849-28b297132ba2</td>\n",
       "      <td>{'bedrift_navn': ' AMEDIA DISTRIBUSJON VIKEN A...</td>\n",
       "      <td>Validated</td>\n",
       "      <td>None</td>\n",
       "      <td>{}</td>\n",
       "    </tr>\n",
       "    <tr>\n",
       "      <th>1</th>\n",
       "      <td>{'gruppe': 'Helse, pleie og omsorg (2001-2011)...</td>\n",
       "      <td>None</td>\n",
       "      <td>None</td>\n",
       "      <td>hybrid</td>\n",
       "      <td>rubrix</td>\n",
       "      <td>False</td>\n",
       "      <td>None</td>\n",
       "      <td>006e3d07-1f0d-4350-98f8-d5c5393bd4b3</td>\n",
       "      <td>{}</td>\n",
       "      <td>Validated</td>\n",
       "      <td>None</td>\n",
       "      <td>{}</td>\n",
       "    </tr>\n",
       "    <tr>\n",
       "      <th>2</th>\n",
       "      <td>{'gruppe': 'Undervisning (2001-2011)', 'tittel...</td>\n",
       "      <td>None</td>\n",
       "      <td>None</td>\n",
       "      <td>office</td>\n",
       "      <td>rubrix</td>\n",
       "      <td>False</td>\n",
       "      <td>None</td>\n",
       "      <td>00894a86-18f7-4af9-90a2-ec65be61e2cb</td>\n",
       "      <td>{'bedrift_navn': ' KLYPEN BARNEHAGE'}</td>\n",
       "      <td>Validated</td>\n",
       "      <td>None</td>\n",
       "      <td>{}</td>\n",
       "    </tr>\n",
       "    <tr>\n",
       "      <th>3</th>\n",
       "      <td>{'gruppe': 'Helse, pleie og omsorg (2001-2011)...</td>\n",
       "      <td>None</td>\n",
       "      <td>None</td>\n",
       "      <td>office</td>\n",
       "      <td>rubrix</td>\n",
       "      <td>False</td>\n",
       "      <td>None</td>\n",
       "      <td>014694ea-aec1-4c58-81bc-e6fea13deabf</td>\n",
       "      <td>{}</td>\n",
       "      <td>Validated</td>\n",
       "      <td>None</td>\n",
       "      <td>{}</td>\n",
       "    </tr>\n",
       "    <tr>\n",
       "      <th>4</th>\n",
       "      <td>{'gruppe': 'Ledere (2001-2011)', 'tittel': 'Ve...</td>\n",
       "      <td>None</td>\n",
       "      <td>None</td>\n",
       "      <td>office</td>\n",
       "      <td>rubrix</td>\n",
       "      <td>False</td>\n",
       "      <td>None</td>\n",
       "      <td>01571f2b-66d2-4189-a7a3-950981b83f48</td>\n",
       "      <td>{'bedrift_navn': ' NORSKILT TRAFFIC SAFETY AS ...</td>\n",
       "      <td>Validated</td>\n",
       "      <td>None</td>\n",
       "      <td>{}</td>\n",
       "    </tr>\n",
       "  </tbody>\n",
       "</table>\n",
       "</div>"
      ],
      "text/plain": [
       "                                              inputs prediction  \\\n",
       "0  {'gruppe': 'Serviceyrker og annet arbeid (2001...       None   \n",
       "1  {'gruppe': 'Helse, pleie og omsorg (2001-2011)...       None   \n",
       "2  {'gruppe': 'Undervisning (2001-2011)', 'tittel...       None   \n",
       "3  {'gruppe': 'Helse, pleie og omsorg (2001-2011)...       None   \n",
       "4  {'gruppe': 'Ledere (2001-2011)', 'tittel': 'Ve...       None   \n",
       "\n",
       "  prediction_agent annotation annotation_agent  multi_label explanation  \\\n",
       "0             None     office           rubrix        False        None   \n",
       "1             None     hybrid           rubrix        False        None   \n",
       "2             None     office           rubrix        False        None   \n",
       "3             None     office           rubrix        False        None   \n",
       "4             None     office           rubrix        False        None   \n",
       "\n",
       "                                     id  \\\n",
       "0  001d9319-7804-4a91-8849-28b297132ba2   \n",
       "1  006e3d07-1f0d-4350-98f8-d5c5393bd4b3   \n",
       "2  00894a86-18f7-4af9-90a2-ec65be61e2cb   \n",
       "3  014694ea-aec1-4c58-81bc-e6fea13deabf   \n",
       "4  01571f2b-66d2-4189-a7a3-950981b83f48   \n",
       "\n",
       "                                            metadata     status  \\\n",
       "0  {'bedrift_navn': ' AMEDIA DISTRIBUSJON VIKEN A...  Validated   \n",
       "1                                                 {}  Validated   \n",
       "2              {'bedrift_navn': ' KLYPEN BARNEHAGE'}  Validated   \n",
       "3                                                 {}  Validated   \n",
       "4  {'bedrift_navn': ' NORSKILT TRAFFIC SAFETY AS ...  Validated   \n",
       "\n",
       "  event_timestamp metrics  \n",
       "0            None      {}  \n",
       "1            None      {}  \n",
       "2            None      {}  \n",
       "3            None      {}  \n",
       "4            None      {}  "
      ]
     },
     "execution_count": 20,
     "metadata": {},
     "output_type": "execute_result"
    }
   ],
   "source": [
    "rd.head()"
   ]
  },
  {
   "cell_type": "code",
   "execution_count": 21,
   "metadata": {},
   "outputs": [
    {
     "data": {
      "text/plain": [
       "Index(['inputs', 'prediction', 'prediction_agent', 'annotation',\n",
       "       'annotation_agent', 'multi_label', 'explanation', 'id', 'metadata',\n",
       "       'status', 'event_timestamp', 'metrics'],\n",
       "      dtype='object')"
      ]
     },
     "execution_count": 21,
     "metadata": {},
     "output_type": "execute_result"
    }
   ],
   "source": [
    "rd.columns"
   ]
  },
  {
   "cell_type": "code",
   "execution_count": null,
   "metadata": {},
   "outputs": [],
   "source": []
  }
 ],
 "metadata": {
  "interpreter": {
   "hash": "4df9df7ed363474a3c7e16dc9c8684fbbe57d017d21752fb698097e3c88f77b3"
  },
  "kernelspec": {
   "display_name": "Python 3.10.2 ('rubrix')",
   "language": "python",
   "name": "python3"
  },
  "language_info": {
   "codemirror_mode": {
    "name": "ipython",
    "version": 3
   },
   "file_extension": ".py",
   "mimetype": "text/x-python",
   "name": "python",
   "nbconvert_exporter": "python",
   "pygments_lexer": "ipython3",
   "version": "3.10.2"
  },
  "orig_nbformat": 4
 },
 "nbformat": 4,
 "nbformat_minor": 2
}
