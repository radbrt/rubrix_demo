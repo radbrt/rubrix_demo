{
 "cells": [
  {
   "cell_type": "markdown",
   "metadata": {},
   "source": [
    "# Classification with Rubrix\n",
    "\n",
    "If you're here, you probably already know that Rubrix is an annotation tool.\n",
    "\n",
    "In a way, Rubrix has three parts: A server with the annotation UI, an elasticsearch Docker instance that stores the data, and a python library that can interact with the server and register data to be annotated.\n",
    "\n",
    "Getting to know Rubrix, we will try to annotate some english-language job advertisements. These job ads are stored in a tabular file. We will start the rubrix server and elastic container, and use python to read our dataset and register it with the server."
   ]
  },
  {
   "cell_type": "markdown",
   "metadata": {},
   "source": [
    "## Running the server\n",
    "Assuming you have Docker installed, you can start a docker container with elasticsearch directly from the notebook. You don't have to know a lot about Docker, but if this is new to you remember to finish the \"cleaning up\" part at the bottom. For now, this should work."
   ]
  },
  {
   "cell_type": "code",
   "execution_count": 12,
   "metadata": {},
   "outputs": [
    {
     "name": "stdout",
     "output_type": "stream",
     "text": [
      "51ff13143913f46fb4abec2fc58183554ab5ae09cece7df66694b4fe4c14c269\n"
     ]
    }
   ],
   "source": [
    "%%bash\n",
    "docker run -d \\\n",
    "    --name rubrix-es \\\n",
    "    -p 9200:9200 -p 9300:9300 \\\n",
    "    -e \"ES_JAVA_OPTS=-Xms512m -Xmx512m\" \\\n",
    "    -e \"discovery.type=single-node\" \\\n",
    "    docker.elastic.co/elasticsearch/elasticsearch-oss:7.10.2"
   ]
  },
  {
   "cell_type": "markdown",
   "metadata": {},
   "source": [
    "In addition to the server, you need to start the rubrix server. This runs directly in Python (no Docker required), and can be started by running `python -m rubrix` in the command line. Because this command will occupy the terminal, it is a good idea to do this in an new terminal."
   ]
  },
  {
   "cell_type": "markdown",
   "metadata": {},
   "source": [
    "## Loading the data\n",
    "\n",
    "Now that the server is running, we are able to add data that we want to annotate to it. First though, we use Pandas to read the data from file."
   ]
  },
  {
   "cell_type": "code",
   "execution_count": 23,
   "metadata": {},
   "outputs": [],
   "source": [
    "import pandas as pd\n",
    "import rubrix as rb\n",
    "\n",
    "df = pd.read_csv('../data/job_ads_english.csv', dtype='str')"
   ]
  },
  {
   "cell_type": "code",
   "execution_count": 24,
   "metadata": {},
   "outputs": [
    {
     "data": {
      "text/html": [
       "<div>\n",
       "<style scoped>\n",
       "    .dataframe tbody tr th:only-of-type {\n",
       "        vertical-align: middle;\n",
       "    }\n",
       "\n",
       "    .dataframe tbody tr th {\n",
       "        vertical-align: top;\n",
       "    }\n",
       "\n",
       "    .dataframe thead th {\n",
       "        text-align: right;\n",
       "    }\n",
       "</style>\n",
       "<table border=\"1\" class=\"dataframe\">\n",
       "  <thead>\n",
       "    <tr style=\"text-align: right;\">\n",
       "      <th></th>\n",
       "      <th>job_title</th>\n",
       "      <th>job_description</th>\n",
       "      <th>isco_code</th>\n",
       "      <th>nace</th>\n",
       "    </tr>\n",
       "  </thead>\n",
       "  <tbody>\n",
       "    <tr>\n",
       "      <th>0</th>\n",
       "      <td>Deck Bosun</td>\n",
       "      <td># is overall responsible and in charge of all ...</td>\n",
       "      <td>8350</td>\n",
       "      <td>03111</td>\n",
       "    </tr>\n",
       "    <tr>\n",
       "      <th>1</th>\n",
       "      <td>Postdoctoral Research Fellow (ref. 2012/2293)</td>\n",
       "      <td># in #\\n\\nA three-years position as Post doc (...</td>\n",
       "      <td>2131</td>\n",
       "      <td>85421</td>\n",
       "    </tr>\n",
       "    <tr>\n",
       "      <th>2</th>\n",
       "      <td>Welder Offshore ( Sveiser offshore)</td>\n",
       "      <td># performs maintenance and fabrication welding...</td>\n",
       "      <td>7212</td>\n",
       "      <td>09101</td>\n",
       "    </tr>\n",
       "    <tr>\n",
       "      <th>3</th>\n",
       "      <td>Data collection Stavanger/Sandnes</td>\n",
       "      <td>\\nWe need someone to do some data collection i...</td>\n",
       "      <td>4132</td>\n",
       "      <td>73200</td>\n",
       "    </tr>\n",
       "    <tr>\n",
       "      <th>4</th>\n",
       "      <td>Piping Engineer</td>\n",
       "      <td>IKM Consultants AS is a company within the IKM...</td>\n",
       "      <td>3117</td>\n",
       "      <td>71129</td>\n",
       "    </tr>\n",
       "    <tr>\n",
       "      <th>5</th>\n",
       "      <td>Post-Doctoral Research Fellowship in Cognitive...</td>\n",
       "      <td>Department of Psychology\\n\\n# in #\\n\\nBackgrou...</td>\n",
       "      <td>2310</td>\n",
       "      <td>85421</td>\n",
       "    </tr>\n",
       "    <tr>\n",
       "      <th>6</th>\n",
       "      <td>Medarbeidere (deltid)</td>\n",
       "      <td>REMA 1000 i Tønsberg området vil vi få behov f...</td>\n",
       "      <td>5223</td>\n",
       "      <td>47111</td>\n",
       "    </tr>\n",
       "    <tr>\n",
       "      <th>7</th>\n",
       "      <td>Business Development Executive</td>\n",
       "      <td>Executive placement in DOF Subsea:\\nSearching ...</td>\n",
       "      <td>2413</td>\n",
       "      <td>71122</td>\n",
       "    </tr>\n",
       "    <tr>\n",
       "      <th>8</th>\n",
       "      <td>Project Engineer (ref.nr. 404281)</td>\n",
       "      <td>Responsibilities * Accountable to deliver resp...</td>\n",
       "      <td>3117</td>\n",
       "      <td>71129</td>\n",
       "    </tr>\n",
       "    <tr>\n",
       "      <th>9</th>\n",
       "      <td>Cost Controller TechnipFMC</td>\n",
       "      <td>#FMCTechnipFMC is a global leader in oil and g...</td>\n",
       "      <td>2411</td>\n",
       "      <td>30113</td>\n",
       "    </tr>\n",
       "  </tbody>\n",
       "</table>\n",
       "</div>"
      ],
      "text/plain": [
       "                                           job_title  \\\n",
       "0                                         Deck Bosun   \n",
       "1      Postdoctoral Research Fellow (ref. 2012/2293)   \n",
       "2                Welder Offshore ( Sveiser offshore)   \n",
       "3                  Data collection Stavanger/Sandnes   \n",
       "4                                    Piping Engineer   \n",
       "5  Post-Doctoral Research Fellowship in Cognitive...   \n",
       "6                              Medarbeidere (deltid)   \n",
       "7                     Business Development Executive   \n",
       "8                  Project Engineer (ref.nr. 404281)   \n",
       "9                         Cost Controller TechnipFMC   \n",
       "\n",
       "                                     job_description isco_code   nace  \n",
       "0  # is overall responsible and in charge of all ...      8350  03111  \n",
       "1  # in #\\n\\nA three-years position as Post doc (...      2131  85421  \n",
       "2  # performs maintenance and fabrication welding...      7212  09101  \n",
       "3  \\nWe need someone to do some data collection i...      4132  73200  \n",
       "4  IKM Consultants AS is a company within the IKM...      3117  71129  \n",
       "5  Department of Psychology\\n\\n# in #\\n\\nBackgrou...      2310  85421  \n",
       "6  REMA 1000 i Tønsberg området vil vi få behov f...      5223  47111  \n",
       "7  Executive placement in DOF Subsea:\\nSearching ...      2413  71122  \n",
       "8  Responsibilities * Accountable to deliver resp...      3117  71129  \n",
       "9  #FMCTechnipFMC is a global leader in oil and g...      2411  30113  "
      ]
     },
     "execution_count": 24,
     "metadata": {},
     "output_type": "execute_result"
    }
   ],
   "source": [
    "df.head(10)"
   ]
  },
  {
   "cell_type": "code",
   "execution_count": 25,
   "metadata": {},
   "outputs": [],
   "source": [
    "df_sample = df.sample(100)"
   ]
  },
  {
   "cell_type": "code",
   "execution_count": 26,
   "metadata": {},
   "outputs": [],
   "source": [
    "records = []\n",
    "\n",
    "for i, r in df_sample.iterrows():\n",
    "    record = rb.TextClassificationRecord(\n",
    "        inputs={\n",
    "            \"title\": r['job_title'],\n",
    "            \"text\": r['job_description']\n",
    "        }\n",
    "    )\n",
    "\n",
    "    records.append(record)"
   ]
  },
  {
   "cell_type": "code",
   "execution_count": 27,
   "metadata": {},
   "outputs": [
    {
     "data": {
      "text/plain": [
       "BulkResponse(dataset='job_ads_example_2', processed=100, failed=0)"
      ]
     },
     "execution_count": 27,
     "metadata": {},
     "output_type": "execute_result"
    }
   ],
   "source": [
    "rb.log(records, name = \"job_ads_example_1\", verbose=False)\n"
   ]
  },
  {
   "cell_type": "markdown",
   "metadata": {},
   "source": [
    "When this is finished, you should be able to find the data by going to http://localhost:6900. Note that modern browsers like to add https to everything, so make sure you type http to avoid errors and confusion. \n",
    "\n",
    "I'm not going to explain the user interface here, but you should be able to create a few labels, and effectively label the different job ads. If you are in need of inspiration, try to label wether the jobs can be done from home. You will notice that some of the descriptions are uninformative or not in english, others are very technical and therefore hard to evaluate, and some jobs can be done partially from home. You might want to create labels for these as well.\n",
    "\n",
    "When you are done, you can use rubrix to retrieve the annotated data again."
   ]
  },
  {
   "cell_type": "code",
   "execution_count": 28,
   "metadata": {},
   "outputs": [],
   "source": [
    "annotated_df = rb.load('job_ads_example_1', query='status:Validated')"
   ]
  },
  {
   "cell_type": "code",
   "execution_count": 29,
   "metadata": {},
   "outputs": [
    {
     "data": {
      "text/plain": [
       "15"
      ]
     },
     "execution_count": 29,
     "metadata": {},
     "output_type": "execute_result"
    }
   ],
   "source": [
    "len(annotated_df)"
   ]
  },
  {
   "cell_type": "code",
   "execution_count": 30,
   "metadata": {},
   "outputs": [
    {
     "data": {
      "text/html": [
       "<div>\n",
       "<style scoped>\n",
       "    .dataframe tbody tr th:only-of-type {\n",
       "        vertical-align: middle;\n",
       "    }\n",
       "\n",
       "    .dataframe tbody tr th {\n",
       "        vertical-align: top;\n",
       "    }\n",
       "\n",
       "    .dataframe thead th {\n",
       "        text-align: right;\n",
       "    }\n",
       "</style>\n",
       "<table border=\"1\" class=\"dataframe\">\n",
       "  <thead>\n",
       "    <tr style=\"text-align: right;\">\n",
       "      <th></th>\n",
       "      <th>inputs</th>\n",
       "      <th>prediction</th>\n",
       "      <th>prediction_agent</th>\n",
       "      <th>annotation</th>\n",
       "      <th>annotation_agent</th>\n",
       "      <th>multi_label</th>\n",
       "      <th>explanation</th>\n",
       "      <th>id</th>\n",
       "      <th>metadata</th>\n",
       "      <th>status</th>\n",
       "      <th>event_timestamp</th>\n",
       "      <th>metrics</th>\n",
       "    </tr>\n",
       "  </thead>\n",
       "  <tbody>\n",
       "    <tr>\n",
       "      <th>0</th>\n",
       "      <td>{'text': '– # – Powder - Norway\n",
       "\n",
       "# R&amp;D Powder ...</td>\n",
       "      <td>None</td>\n",
       "      <td>None</td>\n",
       "      <td>hybrid</td>\n",
       "      <td>rubrix</td>\n",
       "      <td>False</td>\n",
       "      <td>None</td>\n",
       "      <td>0067f2a0-9cfb-4b86-a0c3-be99b8100b2d</td>\n",
       "      <td>{}</td>\n",
       "      <td>Validated</td>\n",
       "      <td>None</td>\n",
       "      <td>{}</td>\n",
       "    </tr>\n",
       "    <tr>\n",
       "      <th>1</th>\n",
       "      <td>{'text': 'DNB Markets - # seeks:\n",
       "\n",
       "Analysts and...</td>\n",
       "      <td>None</td>\n",
       "      <td>None</td>\n",
       "      <td>unknown</td>\n",
       "      <td>rubrix</td>\n",
       "      <td>False</td>\n",
       "      <td>None</td>\n",
       "      <td>030c4e1b-2a1c-42bf-af5e-f3bd362b7316</td>\n",
       "      <td>{}</td>\n",
       "      <td>Validated</td>\n",
       "      <td>None</td>\n",
       "      <td>{}</td>\n",
       "    </tr>\n",
       "    <tr>\n",
       "      <th>2</th>\n",
       "      <td>{'text': '00690\n",
       "\n",
       "Responsibilities\n",
       "* Perform PD...</td>\n",
       "      <td>None</td>\n",
       "      <td>None</td>\n",
       "      <td>hybrid</td>\n",
       "      <td>rubrix</td>\n",
       "      <td>False</td>\n",
       "      <td>None</td>\n",
       "      <td>044ff868-45af-45e0-9a7e-7a233294f948</td>\n",
       "      <td>{}</td>\n",
       "      <td>Validated</td>\n",
       "      <td>None</td>\n",
       "      <td>{}</td>\n",
       "    </tr>\n",
       "    <tr>\n",
       "      <th>3</th>\n",
       "      <td>{'text': 'Jobbnorge ID: 111500A scholarship is...</td>\n",
       "      <td>None</td>\n",
       "      <td>None</td>\n",
       "      <td>yes</td>\n",
       "      <td>rubrix</td>\n",
       "      <td>False</td>\n",
       "      <td>None</td>\n",
       "      <td>0548f6e2-87ed-4512-911b-f1c5d7cbc768</td>\n",
       "      <td>{}</td>\n",
       "      <td>Validated</td>\n",
       "      <td>None</td>\n",
       "      <td>{}</td>\n",
       "    </tr>\n",
       "    <tr>\n",
       "      <th>4</th>\n",
       "      <td>{'text': 'Discipline : Instrument  Project : S...</td>\n",
       "      <td>None</td>\n",
       "      <td>None</td>\n",
       "      <td>hybrid</td>\n",
       "      <td>rubrix</td>\n",
       "      <td>False</td>\n",
       "      <td>None</td>\n",
       "      <td>05aae560-3fe0-45f7-a4a9-973a46de2a28</td>\n",
       "      <td>{}</td>\n",
       "      <td>Validated</td>\n",
       "      <td>None</td>\n",
       "      <td>{}</td>\n",
       "    </tr>\n",
       "  </tbody>\n",
       "</table>\n",
       "</div>"
      ],
      "text/plain": [
       "                                              inputs prediction  \\\n",
       "0  {'text': '– # – Powder - Norway\n",
       "\n",
       "# R&D Powder ...       None   \n",
       "1  {'text': 'DNB Markets - # seeks:\n",
       "\n",
       "Analysts and...       None   \n",
       "2  {'text': '00690\n",
       "\n",
       "Responsibilities\n",
       "* Perform PD...       None   \n",
       "3  {'text': 'Jobbnorge ID: 111500A scholarship is...       None   \n",
       "4  {'text': 'Discipline : Instrument  Project : S...       None   \n",
       "\n",
       "  prediction_agent annotation annotation_agent  multi_label explanation  \\\n",
       "0             None     hybrid           rubrix        False        None   \n",
       "1             None    unknown           rubrix        False        None   \n",
       "2             None     hybrid           rubrix        False        None   \n",
       "3             None        yes           rubrix        False        None   \n",
       "4             None     hybrid           rubrix        False        None   \n",
       "\n",
       "                                     id metadata     status event_timestamp  \\\n",
       "0  0067f2a0-9cfb-4b86-a0c3-be99b8100b2d       {}  Validated            None   \n",
       "1  030c4e1b-2a1c-42bf-af5e-f3bd362b7316       {}  Validated            None   \n",
       "2  044ff868-45af-45e0-9a7e-7a233294f948       {}  Validated            None   \n",
       "3  0548f6e2-87ed-4512-911b-f1c5d7cbc768       {}  Validated            None   \n",
       "4  05aae560-3fe0-45f7-a4a9-973a46de2a28       {}  Validated            None   \n",
       "\n",
       "  metrics  \n",
       "0      {}  \n",
       "1      {}  \n",
       "2      {}  \n",
       "3      {}  \n",
       "4      {}  "
      ]
     },
     "execution_count": 30,
     "metadata": {},
     "output_type": "execute_result"
    }
   ],
   "source": [
    "annotated_df.head()"
   ]
  },
  {
   "cell_type": "code",
   "execution_count": null,
   "metadata": {},
   "outputs": [],
   "source": []
  }
 ],
 "metadata": {
  "interpreter": {
   "hash": "4df9df7ed363474a3c7e16dc9c8684fbbe57d017d21752fb698097e3c88f77b3"
  },
  "kernelspec": {
   "display_name": "Python 3.10.2 ('rubrix')",
   "language": "python",
   "name": "python3"
  },
  "language_info": {
   "codemirror_mode": {
    "name": "ipython",
    "version": 3
   },
   "file_extension": ".py",
   "mimetype": "text/x-python",
   "name": "python",
   "nbconvert_exporter": "python",
   "pygments_lexer": "ipython3",
   "version": "3.10.2"
  },
  "orig_nbformat": 4
 },
 "nbformat": 4,
 "nbformat_minor": 2
}
